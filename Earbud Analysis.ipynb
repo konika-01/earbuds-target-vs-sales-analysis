{
 "cells": [
  {
   "cell_type": "code",
   "execution_count": 1,
   "id": "b7a6746e-b5a1-4aef-975e-cd70bf9dd172",
   "metadata": {},
   "outputs": [],
   "source": [
    "import pandas as pd\n",
    "import numpy as np"
   ]
  },
  {
   "cell_type": "code",
   "execution_count": 2,
   "id": "fb45124a-36ef-4e34-9b75-d22fee976b67",
   "metadata": {},
   "outputs": [],
   "source": [
    "sales = pd.read_csv('D://Data Analytics//Utkarsh_IMT//Python//exercise//sales.csv')\n",
    "tgt = pd.read_csv('D://Data Analytics//Utkarsh_IMT//Python//exercise//target.csv')\n",
    "buds = pd.read_csv('D://Data Analytics//Utkarsh_IMT//Python//exercise//buds.csv')"
   ]
  },
  {
   "cell_type": "code",
   "execution_count": 3,
   "id": "fbe9b865-4e3a-4496-956b-582ae5c57996",
   "metadata": {},
   "outputs": [],
   "source": [
    "# Handling Dataset"
   ]
  },
  {
   "cell_type": "code",
   "execution_count": 54,
   "id": "88963833-f956-43d4-8b6b-e241558eefd3",
   "metadata": {},
   "outputs": [
    {
     "data": {
      "text/html": [
       "<div>\n",
       "<style scoped>\n",
       "    .dataframe tbody tr th:only-of-type {\n",
       "        vertical-align: middle;\n",
       "    }\n",
       "\n",
       "    .dataframe tbody tr th {\n",
       "        vertical-align: top;\n",
       "    }\n",
       "\n",
       "    .dataframe thead th {\n",
       "        text-align: right;\n",
       "    }\n",
       "</style>\n",
       "<table border=\"1\" class=\"dataframe\">\n",
       "  <thead>\n",
       "    <tr style=\"text-align: right;\">\n",
       "      <th></th>\n",
       "      <th>Date</th>\n",
       "      <th>City</th>\n",
       "      <th>PID</th>\n",
       "      <th>Sales</th>\n",
       "      <th>Month</th>\n",
       "      <th>Year</th>\n",
       "    </tr>\n",
       "  </thead>\n",
       "  <tbody>\n",
       "    <tr>\n",
       "      <th>0</th>\n",
       "      <td>2024-04-30</td>\n",
       "      <td>Noida</td>\n",
       "      <td>PBUD039</td>\n",
       "      <td>53661</td>\n",
       "      <td>4</td>\n",
       "      <td>2024</td>\n",
       "    </tr>\n",
       "    <tr>\n",
       "      <th>1</th>\n",
       "      <td>2024-02-29</td>\n",
       "      <td>Kolkata</td>\n",
       "      <td>PBUD038</td>\n",
       "      <td>60848</td>\n",
       "      <td>2</td>\n",
       "      <td>2024</td>\n",
       "    </tr>\n",
       "    <tr>\n",
       "      <th>2</th>\n",
       "      <td>2024-02-29</td>\n",
       "      <td>Gurugram</td>\n",
       "      <td>PBUD039</td>\n",
       "      <td>53505</td>\n",
       "      <td>2</td>\n",
       "      <td>2024</td>\n",
       "    </tr>\n",
       "    <tr>\n",
       "      <th>3</th>\n",
       "      <td>2024-07-31</td>\n",
       "      <td>Gurugram</td>\n",
       "      <td>PBUD037</td>\n",
       "      <td>112005</td>\n",
       "      <td>7</td>\n",
       "      <td>2024</td>\n",
       "    </tr>\n",
       "    <tr>\n",
       "      <th>4</th>\n",
       "      <td>2024-02-29</td>\n",
       "      <td>Gtr Noida</td>\n",
       "      <td>PBUD034</td>\n",
       "      <td>45895</td>\n",
       "      <td>2</td>\n",
       "      <td>2024</td>\n",
       "    </tr>\n",
       "    <tr>\n",
       "      <th>...</th>\n",
       "      <td>...</td>\n",
       "      <td>...</td>\n",
       "      <td>...</td>\n",
       "      <td>...</td>\n",
       "      <td>...</td>\n",
       "      <td>...</td>\n",
       "    </tr>\n",
       "    <tr>\n",
       "      <th>499</th>\n",
       "      <td>2024-04-30</td>\n",
       "      <td>Gurugram</td>\n",
       "      <td>PBUD035</td>\n",
       "      <td>106743</td>\n",
       "      <td>4</td>\n",
       "      <td>2024</td>\n",
       "    </tr>\n",
       "    <tr>\n",
       "      <th>500</th>\n",
       "      <td>2024-04-30</td>\n",
       "      <td>Delhi</td>\n",
       "      <td>PBUD034</td>\n",
       "      <td>92564</td>\n",
       "      <td>4</td>\n",
       "      <td>2024</td>\n",
       "    </tr>\n",
       "    <tr>\n",
       "      <th>501</th>\n",
       "      <td>2024-01-31</td>\n",
       "      <td>Noida</td>\n",
       "      <td>PBUD034</td>\n",
       "      <td>72580</td>\n",
       "      <td>1</td>\n",
       "      <td>2024</td>\n",
       "    </tr>\n",
       "    <tr>\n",
       "      <th>502</th>\n",
       "      <td>2024-08-31</td>\n",
       "      <td>Gurugram</td>\n",
       "      <td>PBUD040</td>\n",
       "      <td>67788</td>\n",
       "      <td>8</td>\n",
       "      <td>2024</td>\n",
       "    </tr>\n",
       "    <tr>\n",
       "      <th>503</th>\n",
       "      <td>2024-03-31</td>\n",
       "      <td>Noida</td>\n",
       "      <td>PBUD040</td>\n",
       "      <td>82390</td>\n",
       "      <td>3</td>\n",
       "      <td>2024</td>\n",
       "    </tr>\n",
       "  </tbody>\n",
       "</table>\n",
       "<p>504 rows × 6 columns</p>\n",
       "</div>"
      ],
      "text/plain": [
       "          Date       City      PID   Sales  Month  Year\n",
       "0   2024-04-30      Noida  PBUD039   53661      4  2024\n",
       "1   2024-02-29    Kolkata  PBUD038   60848      2  2024\n",
       "2   2024-02-29   Gurugram  PBUD039   53505      2  2024\n",
       "3   2024-07-31   Gurugram  PBUD037  112005      7  2024\n",
       "4   2024-02-29  Gtr Noida  PBUD034   45895      2  2024\n",
       "..         ...        ...      ...     ...    ...   ...\n",
       "499 2024-04-30   Gurugram  PBUD035  106743      4  2024\n",
       "500 2024-04-30      Delhi  PBUD034   92564      4  2024\n",
       "501 2024-01-31      Noida  PBUD034   72580      1  2024\n",
       "502 2024-08-31   Gurugram  PBUD040   67788      8  2024\n",
       "503 2024-03-31      Noida  PBUD040   82390      3  2024\n",
       "\n",
       "[504 rows x 6 columns]"
      ]
     },
     "execution_count": 54,
     "metadata": {},
     "output_type": "execute_result"
    }
   ],
   "source": [
    "sales"
   ]
  },
  {
   "cell_type": "code",
   "execution_count": 5,
   "id": "b68ce97e-2f0f-440b-a913-243f7aa05aa4",
   "metadata": {},
   "outputs": [
    {
     "data": {
      "text/plain": [
       "(504, 4)"
      ]
     },
     "execution_count": 5,
     "metadata": {},
     "output_type": "execute_result"
    }
   ],
   "source": [
    "sales.shape"
   ]
  },
  {
   "cell_type": "code",
   "execution_count": 6,
   "id": "f9be9894-370d-4043-a34f-0804e7afd3ef",
   "metadata": {},
   "outputs": [
    {
     "data": {
      "text/plain": [
       "0"
      ]
     },
     "execution_count": 6,
     "metadata": {},
     "output_type": "execute_result"
    }
   ],
   "source": [
    "buds.duplicated().sum()"
   ]
  },
  {
   "cell_type": "code",
   "execution_count": 7,
   "id": "c2e5bbfb-f523-40c8-baa1-a0444746dc22",
   "metadata": {},
   "outputs": [
    {
     "data": {
      "text/plain": [
       "(7, 4)"
      ]
     },
     "execution_count": 7,
     "metadata": {},
     "output_type": "execute_result"
    }
   ],
   "source": [
    "# if duplicated found - how do we remove\n",
    "sales_updated = sales.drop_duplicates(inplace = True) # this drops if the entire row is duplicated\n",
    "sales_updated = sales.drop_duplicates(['PID']) # if any duplicate found in PID, it will remove, dropping based on specific column \n",
    "sales_updated.shape"
   ]
  },
  {
   "cell_type": "code",
   "execution_count": 8,
   "id": "610ea958-2143-4050-8c92-da28ec9fabaf",
   "metadata": {},
   "outputs": [
    {
     "name": "stdout",
     "output_type": "stream",
     "text": [
      "Date      0\n",
      "Target    0\n",
      "dtype: int64\n",
      "Date     0\n",
      "City     0\n",
      "PID      0\n",
      "Sales    0\n",
      "dtype: int64\n",
      "Bud_ID     0\n",
      "Product    0\n",
      "dtype: int64\n"
     ]
    }
   ],
   "source": [
    "print(tgt.isnull().sum())\n",
    "print(sales.isnull().sum())\n",
    "print(buds.isnull().sum())"
   ]
  },
  {
   "cell_type": "code",
   "execution_count": 9,
   "id": "3b5eb96b-dd98-427e-bc2d-a70205fb43c1",
   "metadata": {},
   "outputs": [
    {
     "data": {
      "text/plain": [
       "Date     object\n",
       "City     object\n",
       "PID      object\n",
       "Sales     int64\n",
       "dtype: object"
      ]
     },
     "execution_count": 9,
     "metadata": {},
     "output_type": "execute_result"
    }
   ],
   "source": [
    "sales.dtypes"
   ]
  },
  {
   "cell_type": "code",
   "execution_count": 10,
   "id": "34e35ec3-4a4c-430a-bddd-7b52ba030974",
   "metadata": {},
   "outputs": [],
   "source": [
    "sales['Date'] = pd.to_datetime(sales['Date'])"
   ]
  },
  {
   "cell_type": "code",
   "execution_count": 11,
   "id": "eb496cc6-4411-4197-a731-badc234c8cec",
   "metadata": {},
   "outputs": [],
   "source": [
    "sales['Month'] = sales['Date'].dt.month\n",
    "sales['Year'] = sales['Date'].dt.year"
   ]
  },
  {
   "cell_type": "code",
   "execution_count": 12,
   "id": "0397aaa3-0352-483d-955e-c1d0c71e8b2c",
   "metadata": {},
   "outputs": [
    {
     "data": {
      "text/plain": [
       "Index(['Bud_ID', 'Product'], dtype='object')"
      ]
     },
     "execution_count": 12,
     "metadata": {},
     "output_type": "execute_result"
    }
   ],
   "source": [
    "buds.columns"
   ]
  },
  {
   "cell_type": "code",
   "execution_count": 13,
   "id": "3aec1974-bd88-4a4f-abf9-bd783f16257e",
   "metadata": {},
   "outputs": [
    {
     "data": {
      "text/html": [
       "<div>\n",
       "<style scoped>\n",
       "    .dataframe tbody tr th:only-of-type {\n",
       "        vertical-align: middle;\n",
       "    }\n",
       "\n",
       "    .dataframe tbody tr th {\n",
       "        vertical-align: top;\n",
       "    }\n",
       "\n",
       "    .dataframe thead th {\n",
       "        text-align: right;\n",
       "    }\n",
       "</style>\n",
       "<table border=\"1\" class=\"dataframe\">\n",
       "  <thead>\n",
       "    <tr style=\"text-align: right;\">\n",
       "      <th></th>\n",
       "      <th>Bud_ID</th>\n",
       "      <th>Product</th>\n",
       "    </tr>\n",
       "  </thead>\n",
       "  <tbody>\n",
       "    <tr>\n",
       "      <th>0</th>\n",
       "      <td>PBUD034</td>\n",
       "      <td>OnePlus Nord Buds 2</td>\n",
       "    </tr>\n",
       "    <tr>\n",
       "      <th>1</th>\n",
       "      <td>PBUD035</td>\n",
       "      <td>Boat Airdopes 181 Pro</td>\n",
       "    </tr>\n",
       "    <tr>\n",
       "      <th>2</th>\n",
       "      <td>PBUD036</td>\n",
       "      <td>Sony WF3510</td>\n",
       "    </tr>\n",
       "    <tr>\n",
       "      <th>3</th>\n",
       "      <td>PBUD037</td>\n",
       "      <td>RealMe Buds Air 6</td>\n",
       "    </tr>\n",
       "    <tr>\n",
       "      <th>4</th>\n",
       "      <td>PBUD038</td>\n",
       "      <td>Noise Aura Buds</td>\n",
       "    </tr>\n",
       "  </tbody>\n",
       "</table>\n",
       "</div>"
      ],
      "text/plain": [
       "    Bud_ID                Product\n",
       "0  PBUD034    OnePlus Nord Buds 2\n",
       "1  PBUD035  Boat Airdopes 181 Pro\n",
       "2  PBUD036            Sony WF3510\n",
       "3  PBUD037      RealMe Buds Air 6\n",
       "4  PBUD038        Noise Aura Buds"
      ]
     },
     "execution_count": 13,
     "metadata": {},
     "output_type": "execute_result"
    }
   ],
   "source": [
    "buds.head()"
   ]
  },
  {
   "cell_type": "code",
   "execution_count": 14,
   "id": "f4b485cc-aff1-4d27-8bab-3c620a504074",
   "metadata": {},
   "outputs": [
    {
     "data": {
      "text/plain": [
       "Index(['Date', 'Target'], dtype='object')"
      ]
     },
     "execution_count": 14,
     "metadata": {},
     "output_type": "execute_result"
    }
   ],
   "source": [
    "tgt.columns"
   ]
  },
  {
   "cell_type": "code",
   "execution_count": 15,
   "id": "164ca0ce-3a0e-4245-8121-b849bab4ae71",
   "metadata": {},
   "outputs": [
    {
     "data": {
      "text/plain": [
       "Date      object\n",
       "Target    object\n",
       "dtype: object"
      ]
     },
     "execution_count": 15,
     "metadata": {},
     "output_type": "execute_result"
    }
   ],
   "source": [
    "tgt.dtypes"
   ]
  },
  {
   "cell_type": "code",
   "execution_count": 16,
   "id": "72a397ff-dbeb-4643-8525-1637deb4ecad",
   "metadata": {},
   "outputs": [],
   "source": [
    "tgt['Date'] = pd.to_datetime(tgt['Date'])\n",
    "tgt['Month'] = tgt['Date'].dt.month\n",
    "tgt['Year'] = tgt['Date'].dt.year"
   ]
  },
  {
   "cell_type": "code",
   "execution_count": 17,
   "id": "451706eb-f614-46b8-9169-f5670c3dc716",
   "metadata": {},
   "outputs": [
    {
     "data": {
      "text/html": [
       "<div>\n",
       "<style scoped>\n",
       "    .dataframe tbody tr th:only-of-type {\n",
       "        vertical-align: middle;\n",
       "    }\n",
       "\n",
       "    .dataframe tbody tr th {\n",
       "        vertical-align: top;\n",
       "    }\n",
       "\n",
       "    .dataframe thead th {\n",
       "        text-align: right;\n",
       "    }\n",
       "</style>\n",
       "<table border=\"1\" class=\"dataframe\">\n",
       "  <thead>\n",
       "    <tr style=\"text-align: right;\">\n",
       "      <th></th>\n",
       "      <th>Date</th>\n",
       "      <th>Target</th>\n",
       "      <th>Month</th>\n",
       "      <th>Year</th>\n",
       "    </tr>\n",
       "  </thead>\n",
       "  <tbody>\n",
       "    <tr>\n",
       "      <th>0</th>\n",
       "      <td>2024-01-31</td>\n",
       "      <td>3800K</td>\n",
       "      <td>1</td>\n",
       "      <td>2024</td>\n",
       "    </tr>\n",
       "    <tr>\n",
       "      <th>1</th>\n",
       "      <td>2024-02-29</td>\n",
       "      <td>3100K</td>\n",
       "      <td>2</td>\n",
       "      <td>2024</td>\n",
       "    </tr>\n",
       "  </tbody>\n",
       "</table>\n",
       "</div>"
      ],
      "text/plain": [
       "        Date Target  Month  Year\n",
       "0 2024-01-31  3800K      1  2024\n",
       "1 2024-02-29  3100K      2  2024"
      ]
     },
     "execution_count": 17,
     "metadata": {},
     "output_type": "execute_result"
    }
   ],
   "source": [
    "tgt.head(2)"
   ]
  },
  {
   "cell_type": "code",
   "execution_count": 18,
   "id": "5b59dc3f-b077-4a01-92ea-ca1e4e186753",
   "metadata": {},
   "outputs": [],
   "source": [
    "tgt['T1'] = pd.to_numeric(tgt['Target'].str.replace('K',''))*1000"
   ]
  },
  {
   "cell_type": "code",
   "execution_count": 19,
   "id": "0800b721-5b5e-49c3-bf19-8a8649cf5016",
   "metadata": {},
   "outputs": [
    {
     "data": {
      "text/html": [
       "<div>\n",
       "<style scoped>\n",
       "    .dataframe tbody tr th:only-of-type {\n",
       "        vertical-align: middle;\n",
       "    }\n",
       "\n",
       "    .dataframe tbody tr th {\n",
       "        vertical-align: top;\n",
       "    }\n",
       "\n",
       "    .dataframe thead th {\n",
       "        text-align: right;\n",
       "    }\n",
       "</style>\n",
       "<table border=\"1\" class=\"dataframe\">\n",
       "  <thead>\n",
       "    <tr style=\"text-align: right;\">\n",
       "      <th></th>\n",
       "      <th>Date</th>\n",
       "      <th>Target</th>\n",
       "      <th>Month</th>\n",
       "      <th>Year</th>\n",
       "      <th>T1</th>\n",
       "    </tr>\n",
       "  </thead>\n",
       "  <tbody>\n",
       "    <tr>\n",
       "      <th>0</th>\n",
       "      <td>2024-01-31</td>\n",
       "      <td>3800K</td>\n",
       "      <td>1</td>\n",
       "      <td>2024</td>\n",
       "      <td>3800000</td>\n",
       "    </tr>\n",
       "    <tr>\n",
       "      <th>1</th>\n",
       "      <td>2024-02-29</td>\n",
       "      <td>3100K</td>\n",
       "      <td>2</td>\n",
       "      <td>2024</td>\n",
       "      <td>3100000</td>\n",
       "    </tr>\n",
       "    <tr>\n",
       "      <th>2</th>\n",
       "      <td>2024-03-31</td>\n",
       "      <td>3000K</td>\n",
       "      <td>3</td>\n",
       "      <td>2024</td>\n",
       "      <td>3000000</td>\n",
       "    </tr>\n",
       "    <tr>\n",
       "      <th>3</th>\n",
       "      <td>2024-04-30</td>\n",
       "      <td>3300K</td>\n",
       "      <td>4</td>\n",
       "      <td>2024</td>\n",
       "      <td>3300000</td>\n",
       "    </tr>\n",
       "    <tr>\n",
       "      <th>4</th>\n",
       "      <td>2024-05-31</td>\n",
       "      <td>4000K</td>\n",
       "      <td>5</td>\n",
       "      <td>2024</td>\n",
       "      <td>4000000</td>\n",
       "    </tr>\n",
       "  </tbody>\n",
       "</table>\n",
       "</div>"
      ],
      "text/plain": [
       "        Date Target  Month  Year       T1\n",
       "0 2024-01-31  3800K      1  2024  3800000\n",
       "1 2024-02-29  3100K      2  2024  3100000\n",
       "2 2024-03-31  3000K      3  2024  3000000\n",
       "3 2024-04-30  3300K      4  2024  3300000\n",
       "4 2024-05-31  4000K      5  2024  4000000"
      ]
     },
     "execution_count": 19,
     "metadata": {},
     "output_type": "execute_result"
    }
   ],
   "source": [
    "tgt.head()"
   ]
  },
  {
   "cell_type": "code",
   "execution_count": 20,
   "id": "47884d52-1598-4169-9062-6f323b2e0742",
   "metadata": {},
   "outputs": [],
   "source": [
    "# questions - always come to the questions after cleaning, and renaming your dataset"
   ]
  },
  {
   "cell_type": "markdown",
   "id": "6f1097df-770a-4973-9195-8f3e424b41b8",
   "metadata": {},
   "source": [
    "Q1) Find City wise sum of Sales"
   ]
  },
  {
   "cell_type": "code",
   "execution_count": 21,
   "id": "e0240f6a-aa38-457b-87dc-230a5ff0cfc6",
   "metadata": {},
   "outputs": [
    {
     "data": {
      "text/html": [
       "<div>\n",
       "<style scoped>\n",
       "    .dataframe tbody tr th:only-of-type {\n",
       "        vertical-align: middle;\n",
       "    }\n",
       "\n",
       "    .dataframe tbody tr th {\n",
       "        vertical-align: top;\n",
       "    }\n",
       "\n",
       "    .dataframe thead th {\n",
       "        text-align: right;\n",
       "    }\n",
       "</style>\n",
       "<table border=\"1\" class=\"dataframe\">\n",
       "  <thead>\n",
       "    <tr style=\"text-align: right;\">\n",
       "      <th></th>\n",
       "      <th>City</th>\n",
       "      <th>Sales</th>\n",
       "    </tr>\n",
       "  </thead>\n",
       "  <tbody>\n",
       "    <tr>\n",
       "      <th>0</th>\n",
       "      <td>Delhi</td>\n",
       "      <td>6723361</td>\n",
       "    </tr>\n",
       "    <tr>\n",
       "      <th>1</th>\n",
       "      <td>Gtr Noida</td>\n",
       "      <td>6942739</td>\n",
       "    </tr>\n",
       "    <tr>\n",
       "      <th>2</th>\n",
       "      <td>Gurugram</td>\n",
       "      <td>6563552</td>\n",
       "    </tr>\n",
       "    <tr>\n",
       "      <th>3</th>\n",
       "      <td>Jaipur</td>\n",
       "      <td>6622550</td>\n",
       "    </tr>\n",
       "    <tr>\n",
       "      <th>4</th>\n",
       "      <td>Kolkata</td>\n",
       "      <td>6780591</td>\n",
       "    </tr>\n",
       "    <tr>\n",
       "      <th>5</th>\n",
       "      <td>Noida</td>\n",
       "      <td>7117161</td>\n",
       "    </tr>\n",
       "  </tbody>\n",
       "</table>\n",
       "</div>"
      ],
      "text/plain": [
       "        City    Sales\n",
       "0      Delhi  6723361\n",
       "1  Gtr Noida  6942739\n",
       "2   Gurugram  6563552\n",
       "3     Jaipur  6622550\n",
       "4    Kolkata  6780591\n",
       "5      Noida  7117161"
      ]
     },
     "execution_count": 21,
     "metadata": {},
     "output_type": "execute_result"
    }
   ],
   "source": [
    "sales.groupby(['City'])['Sales'].sum().reset_index()"
   ]
  },
  {
   "cell_type": "markdown",
   "id": "a04d212b-584b-4ed9-a289-638bb290a9c4",
   "metadata": {},
   "source": [
    "Q2) Find product name wise Sum of Sales"
   ]
  },
  {
   "cell_type": "markdown",
   "id": "5e76beea-7c89-494c-ac46-46dec96fed9c",
   "metadata": {},
   "source": [
    "Q3) Find year and month wise sum of Sales"
   ]
  },
  {
   "cell_type": "code",
   "execution_count": 22,
   "id": "1f2f56d7-b6a2-43d3-a1ab-122090f4961d",
   "metadata": {},
   "outputs": [
    {
     "data": {
      "text/html": [
       "<div>\n",
       "<style scoped>\n",
       "    .dataframe tbody tr th:only-of-type {\n",
       "        vertical-align: middle;\n",
       "    }\n",
       "\n",
       "    .dataframe tbody tr th {\n",
       "        vertical-align: top;\n",
       "    }\n",
       "\n",
       "    .dataframe thead th {\n",
       "        text-align: right;\n",
       "    }\n",
       "</style>\n",
       "<table border=\"1\" class=\"dataframe\">\n",
       "  <thead>\n",
       "    <tr style=\"text-align: right;\">\n",
       "      <th></th>\n",
       "      <th>Year</th>\n",
       "      <th>Month</th>\n",
       "      <th>Sales</th>\n",
       "    </tr>\n",
       "  </thead>\n",
       "  <tbody>\n",
       "    <tr>\n",
       "      <th>0</th>\n",
       "      <td>2024</td>\n",
       "      <td>1</td>\n",
       "      <td>3334592</td>\n",
       "    </tr>\n",
       "    <tr>\n",
       "      <th>1</th>\n",
       "      <td>2024</td>\n",
       "      <td>2</td>\n",
       "      <td>3117787</td>\n",
       "    </tr>\n",
       "    <tr>\n",
       "      <th>2</th>\n",
       "      <td>2024</td>\n",
       "      <td>3</td>\n",
       "      <td>3235834</td>\n",
       "    </tr>\n",
       "    <tr>\n",
       "      <th>3</th>\n",
       "      <td>2024</td>\n",
       "      <td>4</td>\n",
       "      <td>3452048</td>\n",
       "    </tr>\n",
       "    <tr>\n",
       "      <th>4</th>\n",
       "      <td>2024</td>\n",
       "      <td>5</td>\n",
       "      <td>3351323</td>\n",
       "    </tr>\n",
       "    <tr>\n",
       "      <th>5</th>\n",
       "      <td>2024</td>\n",
       "      <td>6</td>\n",
       "      <td>3637182</td>\n",
       "    </tr>\n",
       "    <tr>\n",
       "      <th>6</th>\n",
       "      <td>2024</td>\n",
       "      <td>7</td>\n",
       "      <td>3555840</td>\n",
       "    </tr>\n",
       "    <tr>\n",
       "      <th>7</th>\n",
       "      <td>2024</td>\n",
       "      <td>8</td>\n",
       "      <td>3517231</td>\n",
       "    </tr>\n",
       "    <tr>\n",
       "      <th>8</th>\n",
       "      <td>2024</td>\n",
       "      <td>9</td>\n",
       "      <td>3623866</td>\n",
       "    </tr>\n",
       "    <tr>\n",
       "      <th>9</th>\n",
       "      <td>2024</td>\n",
       "      <td>10</td>\n",
       "      <td>3384701</td>\n",
       "    </tr>\n",
       "    <tr>\n",
       "      <th>10</th>\n",
       "      <td>2024</td>\n",
       "      <td>11</td>\n",
       "      <td>3251112</td>\n",
       "    </tr>\n",
       "    <tr>\n",
       "      <th>11</th>\n",
       "      <td>2024</td>\n",
       "      <td>12</td>\n",
       "      <td>3288438</td>\n",
       "    </tr>\n",
       "  </tbody>\n",
       "</table>\n",
       "</div>"
      ],
      "text/plain": [
       "    Year  Month    Sales\n",
       "0   2024      1  3334592\n",
       "1   2024      2  3117787\n",
       "2   2024      3  3235834\n",
       "3   2024      4  3452048\n",
       "4   2024      5  3351323\n",
       "5   2024      6  3637182\n",
       "6   2024      7  3555840\n",
       "7   2024      8  3517231\n",
       "8   2024      9  3623866\n",
       "9   2024     10  3384701\n",
       "10  2024     11  3251112\n",
       "11  2024     12  3288438"
      ]
     },
     "execution_count": 22,
     "metadata": {},
     "output_type": "execute_result"
    }
   ],
   "source": [
    "sales.groupby(['Year','Month'])['Sales'].sum().reset_index()"
   ]
  },
  {
   "cell_type": "markdown",
   "id": "c1b4d2cc-81f6-43eb-8fea-80117912352d",
   "metadata": {},
   "source": [
    "Q4) Find year and month wise % contribution of Sales"
   ]
  },
  {
   "cell_type": "code",
   "execution_count": 23,
   "id": "7c7c6bab-7eb4-433f-bbb5-1ac73ea277d2",
   "metadata": {},
   "outputs": [],
   "source": [
    "q4 = sales.copy()"
   ]
  },
  {
   "cell_type": "code",
   "execution_count": 24,
   "id": "2e2c61e6-c6f2-413f-935d-c4fc171eac07",
   "metadata": {},
   "outputs": [],
   "source": [
    "q4['Total_Sales'] = q4['Sales'].sum()"
   ]
  },
  {
   "cell_type": "code",
   "execution_count": 25,
   "id": "aace702c-7cbf-4f26-a7a4-0839921452d4",
   "metadata": {},
   "outputs": [],
   "source": [
    "q41= q4.groupby(['Year','Month'])['Sales'].sum().reset_index()"
   ]
  },
  {
   "cell_type": "code",
   "execution_count": 26,
   "id": "18829c2d-4e9a-4266-9a92-fb0b21abab75",
   "metadata": {},
   "outputs": [],
   "source": [
    "q41['Total_Sales'] = sales['Sales'].sum()"
   ]
  },
  {
   "cell_type": "code",
   "execution_count": 27,
   "id": "20236e17-e774-4470-a0f4-cec68f0434cf",
   "metadata": {},
   "outputs": [],
   "source": [
    "q41['Sales%'] = round((q41['Sales']/q41['Total_Sales'])*100,2)"
   ]
  },
  {
   "cell_type": "code",
   "execution_count": 28,
   "id": "5c5b6715-ba59-483a-99a0-e7c008ab30a6",
   "metadata": {},
   "outputs": [
    {
     "data": {
      "text/plain": [
       "100.0"
      ]
     },
     "execution_count": 28,
     "metadata": {},
     "output_type": "execute_result"
    }
   ],
   "source": [
    "q41['Sales%'].sum()"
   ]
  },
  {
   "cell_type": "code",
   "execution_count": 29,
   "id": "3ef1c8f9-0011-40fd-bbb2-8f45cde65096",
   "metadata": {},
   "outputs": [
    {
     "data": {
      "text/html": [
       "<div>\n",
       "<style scoped>\n",
       "    .dataframe tbody tr th:only-of-type {\n",
       "        vertical-align: middle;\n",
       "    }\n",
       "\n",
       "    .dataframe tbody tr th {\n",
       "        vertical-align: top;\n",
       "    }\n",
       "\n",
       "    .dataframe thead th {\n",
       "        text-align: right;\n",
       "    }\n",
       "</style>\n",
       "<table border=\"1\" class=\"dataframe\">\n",
       "  <thead>\n",
       "    <tr style=\"text-align: right;\">\n",
       "      <th></th>\n",
       "      <th>Year</th>\n",
       "      <th>Month</th>\n",
       "      <th>Sales</th>\n",
       "      <th>Total_Sales</th>\n",
       "      <th>Sales%</th>\n",
       "    </tr>\n",
       "  </thead>\n",
       "  <tbody>\n",
       "    <tr>\n",
       "      <th>0</th>\n",
       "      <td>2024</td>\n",
       "      <td>1</td>\n",
       "      <td>3334592</td>\n",
       "      <td>40749954</td>\n",
       "      <td>8.18</td>\n",
       "    </tr>\n",
       "    <tr>\n",
       "      <th>1</th>\n",
       "      <td>2024</td>\n",
       "      <td>2</td>\n",
       "      <td>3117787</td>\n",
       "      <td>40749954</td>\n",
       "      <td>7.65</td>\n",
       "    </tr>\n",
       "  </tbody>\n",
       "</table>\n",
       "</div>"
      ],
      "text/plain": [
       "   Year  Month    Sales  Total_Sales  Sales%\n",
       "0  2024      1  3334592     40749954    8.18\n",
       "1  2024      2  3117787     40749954    7.65"
      ]
     },
     "execution_count": 29,
     "metadata": {},
     "output_type": "execute_result"
    }
   ],
   "source": [
    "q41.head(2)"
   ]
  },
  {
   "cell_type": "markdown",
   "id": "f48670e6-d906-46c7-bf71-5af3c1724808",
   "metadata": {},
   "source": [
    "Q5) Find year and month wise Sales, percentage contribution of Sales, Running Sales, Running% of Slaes"
   ]
  },
  {
   "cell_type": "code",
   "execution_count": 30,
   "id": "d24182a2-0525-48aa-bcc5-e2f9ff973206",
   "metadata": {},
   "outputs": [],
   "source": [
    "q41['Runnin_Sales'] = q41['Sales'].cumsum()"
   ]
  },
  {
   "cell_type": "code",
   "execution_count": 31,
   "id": "677321a5-78da-4b60-9c24-588c39d97e17",
   "metadata": {},
   "outputs": [],
   "source": [
    "q41['RS%'] = round((q41['Runnin_Sales']/q41['Total_Sales'])*100,2)\n"
   ]
  },
  {
   "cell_type": "code",
   "execution_count": 32,
   "id": "b2767f35-5a62-4342-846a-acbb3c246fc0",
   "metadata": {},
   "outputs": [
    {
     "data": {
      "text/html": [
       "<div>\n",
       "<style scoped>\n",
       "    .dataframe tbody tr th:only-of-type {\n",
       "        vertical-align: middle;\n",
       "    }\n",
       "\n",
       "    .dataframe tbody tr th {\n",
       "        vertical-align: top;\n",
       "    }\n",
       "\n",
       "    .dataframe thead th {\n",
       "        text-align: right;\n",
       "    }\n",
       "</style>\n",
       "<table border=\"1\" class=\"dataframe\">\n",
       "  <thead>\n",
       "    <tr style=\"text-align: right;\">\n",
       "      <th></th>\n",
       "      <th>Year</th>\n",
       "      <th>Month</th>\n",
       "      <th>Sales</th>\n",
       "      <th>Total_Sales</th>\n",
       "      <th>Sales%</th>\n",
       "      <th>Runnin_Sales</th>\n",
       "      <th>RS%</th>\n",
       "    </tr>\n",
       "  </thead>\n",
       "  <tbody>\n",
       "    <tr>\n",
       "      <th>0</th>\n",
       "      <td>2024</td>\n",
       "      <td>1</td>\n",
       "      <td>3334592</td>\n",
       "      <td>40749954</td>\n",
       "      <td>8.18</td>\n",
       "      <td>3334592</td>\n",
       "      <td>8.18</td>\n",
       "    </tr>\n",
       "    <tr>\n",
       "      <th>1</th>\n",
       "      <td>2024</td>\n",
       "      <td>2</td>\n",
       "      <td>3117787</td>\n",
       "      <td>40749954</td>\n",
       "      <td>7.65</td>\n",
       "      <td>6452379</td>\n",
       "      <td>15.83</td>\n",
       "    </tr>\n",
       "    <tr>\n",
       "      <th>2</th>\n",
       "      <td>2024</td>\n",
       "      <td>3</td>\n",
       "      <td>3235834</td>\n",
       "      <td>40749954</td>\n",
       "      <td>7.94</td>\n",
       "      <td>9688213</td>\n",
       "      <td>23.77</td>\n",
       "    </tr>\n",
       "    <tr>\n",
       "      <th>3</th>\n",
       "      <td>2024</td>\n",
       "      <td>4</td>\n",
       "      <td>3452048</td>\n",
       "      <td>40749954</td>\n",
       "      <td>8.47</td>\n",
       "      <td>13140261</td>\n",
       "      <td>32.25</td>\n",
       "    </tr>\n",
       "    <tr>\n",
       "      <th>4</th>\n",
       "      <td>2024</td>\n",
       "      <td>5</td>\n",
       "      <td>3351323</td>\n",
       "      <td>40749954</td>\n",
       "      <td>8.22</td>\n",
       "      <td>16491584</td>\n",
       "      <td>40.47</td>\n",
       "    </tr>\n",
       "    <tr>\n",
       "      <th>5</th>\n",
       "      <td>2024</td>\n",
       "      <td>6</td>\n",
       "      <td>3637182</td>\n",
       "      <td>40749954</td>\n",
       "      <td>8.93</td>\n",
       "      <td>20128766</td>\n",
       "      <td>49.40</td>\n",
       "    </tr>\n",
       "    <tr>\n",
       "      <th>6</th>\n",
       "      <td>2024</td>\n",
       "      <td>7</td>\n",
       "      <td>3555840</td>\n",
       "      <td>40749954</td>\n",
       "      <td>8.73</td>\n",
       "      <td>23684606</td>\n",
       "      <td>58.12</td>\n",
       "    </tr>\n",
       "    <tr>\n",
       "      <th>7</th>\n",
       "      <td>2024</td>\n",
       "      <td>8</td>\n",
       "      <td>3517231</td>\n",
       "      <td>40749954</td>\n",
       "      <td>8.63</td>\n",
       "      <td>27201837</td>\n",
       "      <td>66.75</td>\n",
       "    </tr>\n",
       "    <tr>\n",
       "      <th>8</th>\n",
       "      <td>2024</td>\n",
       "      <td>9</td>\n",
       "      <td>3623866</td>\n",
       "      <td>40749954</td>\n",
       "      <td>8.89</td>\n",
       "      <td>30825703</td>\n",
       "      <td>75.65</td>\n",
       "    </tr>\n",
       "    <tr>\n",
       "      <th>9</th>\n",
       "      <td>2024</td>\n",
       "      <td>10</td>\n",
       "      <td>3384701</td>\n",
       "      <td>40749954</td>\n",
       "      <td>8.31</td>\n",
       "      <td>34210404</td>\n",
       "      <td>83.95</td>\n",
       "    </tr>\n",
       "    <tr>\n",
       "      <th>10</th>\n",
       "      <td>2024</td>\n",
       "      <td>11</td>\n",
       "      <td>3251112</td>\n",
       "      <td>40749954</td>\n",
       "      <td>7.98</td>\n",
       "      <td>37461516</td>\n",
       "      <td>91.93</td>\n",
       "    </tr>\n",
       "    <tr>\n",
       "      <th>11</th>\n",
       "      <td>2024</td>\n",
       "      <td>12</td>\n",
       "      <td>3288438</td>\n",
       "      <td>40749954</td>\n",
       "      <td>8.07</td>\n",
       "      <td>40749954</td>\n",
       "      <td>100.00</td>\n",
       "    </tr>\n",
       "  </tbody>\n",
       "</table>\n",
       "</div>"
      ],
      "text/plain": [
       "    Year  Month    Sales  Total_Sales  Sales%  Runnin_Sales     RS%\n",
       "0   2024      1  3334592     40749954    8.18       3334592    8.18\n",
       "1   2024      2  3117787     40749954    7.65       6452379   15.83\n",
       "2   2024      3  3235834     40749954    7.94       9688213   23.77\n",
       "3   2024      4  3452048     40749954    8.47      13140261   32.25\n",
       "4   2024      5  3351323     40749954    8.22      16491584   40.47\n",
       "5   2024      6  3637182     40749954    8.93      20128766   49.40\n",
       "6   2024      7  3555840     40749954    8.73      23684606   58.12\n",
       "7   2024      8  3517231     40749954    8.63      27201837   66.75\n",
       "8   2024      9  3623866     40749954    8.89      30825703   75.65\n",
       "9   2024     10  3384701     40749954    8.31      34210404   83.95\n",
       "10  2024     11  3251112     40749954    7.98      37461516   91.93\n",
       "11  2024     12  3288438     40749954    8.07      40749954  100.00"
      ]
     },
     "execution_count": 32,
     "metadata": {},
     "output_type": "execute_result"
    }
   ],
   "source": [
    "q41"
   ]
  },
  {
   "cell_type": "markdown",
   "id": "e01cb30c-8c94-47fd-844a-7964e176bb7f",
   "metadata": {},
   "source": [
    "Q6) Create a function to find Prod Name wise top N Sales. Use N as argument."
   ]
  },
  {
   "cell_type": "code",
   "execution_count": 33,
   "id": "bb100944-a5e1-428b-87af-263d78b6bc26",
   "metadata": {},
   "outputs": [],
   "source": [
    "q6 = pd.merge(sales,buds,left_on='PID',right_on='Bud_ID',how='inner')"
   ]
  },
  {
   "cell_type": "code",
   "execution_count": 34,
   "id": "632d02a2-1f43-4f59-abb6-58618312a061",
   "metadata": {},
   "outputs": [],
   "source": [
    "q61 = q6[['Product','Sales']].sort_values(['Product','Sales'],ascending = [True, False])"
   ]
  },
  {
   "cell_type": "code",
   "execution_count": 35,
   "id": "7858d527-219f-42d3-bd54-e6ae7a7eaf14",
   "metadata": {},
   "outputs": [],
   "source": [
    "q61['Rank'] = q6.groupby(['Product'])['Sales'].rank(ascending = False)"
   ]
  },
  {
   "cell_type": "code",
   "execution_count": 36,
   "id": "d3116bf0-08ac-463c-a401-151a2b6eb6fc",
   "metadata": {},
   "outputs": [],
   "source": [
    "q61 = q61[q61['Rank']<=3]"
   ]
  },
  {
   "cell_type": "code",
   "execution_count": 37,
   "id": "6e8483e0-806f-4272-a4c9-16e1ff5e2dd9",
   "metadata": {},
   "outputs": [],
   "source": [
    "def Product_Wise_Top_sales(N):\n",
    "    q61 = q6[['Product','Sales']].sort_values(['Product','Sales'],ascending = [True, False])\n",
    "    q61['Rank'] = q6.groupby(['Product'])['Sales'].rank(ascending = False)\n",
    "    q61 = q61[q61['Rank']<=N]\n",
    "    return q61"
   ]
  },
  {
   "cell_type": "code",
   "execution_count": 38,
   "id": "8b27cea7-7146-42a2-b156-80b6acc43ba7",
   "metadata": {},
   "outputs": [
    {
     "data": {
      "text/html": [
       "<div>\n",
       "<style scoped>\n",
       "    .dataframe tbody tr th:only-of-type {\n",
       "        vertical-align: middle;\n",
       "    }\n",
       "\n",
       "    .dataframe tbody tr th {\n",
       "        vertical-align: top;\n",
       "    }\n",
       "\n",
       "    .dataframe thead th {\n",
       "        text-align: right;\n",
       "    }\n",
       "</style>\n",
       "<table border=\"1\" class=\"dataframe\">\n",
       "  <thead>\n",
       "    <tr style=\"text-align: right;\">\n",
       "      <th></th>\n",
       "      <th>Product</th>\n",
       "      <th>Sales</th>\n",
       "      <th>Rank</th>\n",
       "    </tr>\n",
       "  </thead>\n",
       "  <tbody>\n",
       "    <tr>\n",
       "      <th>410</th>\n",
       "      <td>Apple AirPods Pro</td>\n",
       "      <td>133919</td>\n",
       "      <td>1.0</td>\n",
       "    </tr>\n",
       "    <tr>\n",
       "      <th>427</th>\n",
       "      <td>Apple AirPods Pro</td>\n",
       "      <td>130335</td>\n",
       "      <td>2.0</td>\n",
       "    </tr>\n",
       "    <tr>\n",
       "      <th>29</th>\n",
       "      <td>Apple AirPods Pro</td>\n",
       "      <td>129040</td>\n",
       "      <td>3.0</td>\n",
       "    </tr>\n",
       "  </tbody>\n",
       "</table>\n",
       "</div>"
      ],
      "text/plain": [
       "               Product   Sales  Rank\n",
       "410  Apple AirPods Pro  133919   1.0\n",
       "427  Apple AirPods Pro  130335   2.0\n",
       "29   Apple AirPods Pro  129040   3.0"
      ]
     },
     "execution_count": 38,
     "metadata": {},
     "output_type": "execute_result"
    }
   ],
   "source": [
    "Product_Wise_Top_sales(4).head(3)"
   ]
  },
  {
   "cell_type": "markdown",
   "id": "597f28cf-677a-45d6-9759-8e78835e5fc7",
   "metadata": {},
   "source": [
    "q7 ) Create a function to find Prod Name wise top N Sales for a specified month. Use N and month as argument.    "
   ]
  },
  {
   "cell_type": "code",
   "execution_count": 39,
   "id": "24040448-ba88-4f22-bbaa-52fab35b3241",
   "metadata": {},
   "outputs": [],
   "source": [
    "def P_M_TopSales(M,N):\n",
    "    q61 = q6[['Product','Sales']][sales['Month']==2].sort_values(['Product','Sales'],ascending = [True, False])\n",
    "    q61['Rank'] = q61.groupby(['Product'])['Sales'].rank(ascending = False)\n",
    "    q61 = q61[q61['Rank']<=N]\n",
    "    return q61"
   ]
  },
  {
   "cell_type": "code",
   "execution_count": 40,
   "id": "80bf4b2c-ff7f-4355-85dd-0af2fe6abdd7",
   "metadata": {},
   "outputs": [
    {
     "data": {
      "text/html": [
       "<div>\n",
       "<style scoped>\n",
       "    .dataframe tbody tr th:only-of-type {\n",
       "        vertical-align: middle;\n",
       "    }\n",
       "\n",
       "    .dataframe tbody tr th {\n",
       "        vertical-align: top;\n",
       "    }\n",
       "\n",
       "    .dataframe thead th {\n",
       "        text-align: right;\n",
       "    }\n",
       "</style>\n",
       "<table border=\"1\" class=\"dataframe\">\n",
       "  <thead>\n",
       "    <tr style=\"text-align: right;\">\n",
       "      <th></th>\n",
       "      <th>Product</th>\n",
       "      <th>Sales</th>\n",
       "      <th>Rank</th>\n",
       "    </tr>\n",
       "  </thead>\n",
       "  <tbody>\n",
       "    <tr>\n",
       "      <th>30</th>\n",
       "      <td>Apple AirPods Pro</td>\n",
       "      <td>96600</td>\n",
       "      <td>1.0</td>\n",
       "    </tr>\n",
       "    <tr>\n",
       "      <th>147</th>\n",
       "      <td>Apple AirPods Pro</td>\n",
       "      <td>88288</td>\n",
       "      <td>2.0</td>\n",
       "    </tr>\n",
       "    <tr>\n",
       "      <th>311</th>\n",
       "      <td>Apple AirPods Pro</td>\n",
       "      <td>86151</td>\n",
       "      <td>3.0</td>\n",
       "    </tr>\n",
       "    <tr>\n",
       "      <th>184</th>\n",
       "      <td>Boat Airdopes 181 Pro</td>\n",
       "      <td>119176</td>\n",
       "      <td>1.0</td>\n",
       "    </tr>\n",
       "    <tr>\n",
       "      <th>345</th>\n",
       "      <td>Boat Airdopes 181 Pro</td>\n",
       "      <td>100870</td>\n",
       "      <td>2.0</td>\n",
       "    </tr>\n",
       "    <tr>\n",
       "      <th>190</th>\n",
       "      <td>Boat Airdopes 181 Pro</td>\n",
       "      <td>94562</td>\n",
       "      <td>3.0</td>\n",
       "    </tr>\n",
       "    <tr>\n",
       "      <th>462</th>\n",
       "      <td>JBl Wave Beam</td>\n",
       "      <td>99562</td>\n",
       "      <td>1.0</td>\n",
       "    </tr>\n",
       "    <tr>\n",
       "      <th>258</th>\n",
       "      <td>JBl Wave Beam</td>\n",
       "      <td>85130</td>\n",
       "      <td>2.0</td>\n",
       "    </tr>\n",
       "    <tr>\n",
       "      <th>28</th>\n",
       "      <td>JBl Wave Beam</td>\n",
       "      <td>83009</td>\n",
       "      <td>3.0</td>\n",
       "    </tr>\n",
       "    <tr>\n",
       "      <th>461</th>\n",
       "      <td>Noise Aura Buds</td>\n",
       "      <td>134464</td>\n",
       "      <td>1.0</td>\n",
       "    </tr>\n",
       "    <tr>\n",
       "      <th>174</th>\n",
       "      <td>Noise Aura Buds</td>\n",
       "      <td>130746</td>\n",
       "      <td>2.0</td>\n",
       "    </tr>\n",
       "    <tr>\n",
       "      <th>400</th>\n",
       "      <td>Noise Aura Buds</td>\n",
       "      <td>61731</td>\n",
       "      <td>3.0</td>\n",
       "    </tr>\n",
       "    <tr>\n",
       "      <th>246</th>\n",
       "      <td>OnePlus Nord Buds 2</td>\n",
       "      <td>116185</td>\n",
       "      <td>1.0</td>\n",
       "    </tr>\n",
       "    <tr>\n",
       "      <th>233</th>\n",
       "      <td>OnePlus Nord Buds 2</td>\n",
       "      <td>91700</td>\n",
       "      <td>2.0</td>\n",
       "    </tr>\n",
       "    <tr>\n",
       "      <th>4</th>\n",
       "      <td>OnePlus Nord Buds 2</td>\n",
       "      <td>45895</td>\n",
       "      <td>3.0</td>\n",
       "    </tr>\n",
       "    <tr>\n",
       "      <th>241</th>\n",
       "      <td>RealMe Buds Air 6</td>\n",
       "      <td>127234</td>\n",
       "      <td>1.0</td>\n",
       "    </tr>\n",
       "    <tr>\n",
       "      <th>456</th>\n",
       "      <td>RealMe Buds Air 6</td>\n",
       "      <td>110185</td>\n",
       "      <td>2.0</td>\n",
       "    </tr>\n",
       "    <tr>\n",
       "      <th>254</th>\n",
       "      <td>RealMe Buds Air 6</td>\n",
       "      <td>77513</td>\n",
       "      <td>3.0</td>\n",
       "    </tr>\n",
       "    <tr>\n",
       "      <th>129</th>\n",
       "      <td>Sony WF3510</td>\n",
       "      <td>132746</td>\n",
       "      <td>1.0</td>\n",
       "    </tr>\n",
       "    <tr>\n",
       "      <th>197</th>\n",
       "      <td>Sony WF3510</td>\n",
       "      <td>105733</td>\n",
       "      <td>2.0</td>\n",
       "    </tr>\n",
       "    <tr>\n",
       "      <th>14</th>\n",
       "      <td>Sony WF3510</td>\n",
       "      <td>58527</td>\n",
       "      <td>3.0</td>\n",
       "    </tr>\n",
       "  </tbody>\n",
       "</table>\n",
       "</div>"
      ],
      "text/plain": [
       "                   Product   Sales  Rank\n",
       "30       Apple AirPods Pro   96600   1.0\n",
       "147      Apple AirPods Pro   88288   2.0\n",
       "311      Apple AirPods Pro   86151   3.0\n",
       "184  Boat Airdopes 181 Pro  119176   1.0\n",
       "345  Boat Airdopes 181 Pro  100870   2.0\n",
       "190  Boat Airdopes 181 Pro   94562   3.0\n",
       "462          JBl Wave Beam   99562   1.0\n",
       "258          JBl Wave Beam   85130   2.0\n",
       "28           JBl Wave Beam   83009   3.0\n",
       "461        Noise Aura Buds  134464   1.0\n",
       "174        Noise Aura Buds  130746   2.0\n",
       "400        Noise Aura Buds   61731   3.0\n",
       "246    OnePlus Nord Buds 2  116185   1.0\n",
       "233    OnePlus Nord Buds 2   91700   2.0\n",
       "4      OnePlus Nord Buds 2   45895   3.0\n",
       "241      RealMe Buds Air 6  127234   1.0\n",
       "456      RealMe Buds Air 6  110185   2.0\n",
       "254      RealMe Buds Air 6   77513   3.0\n",
       "129            Sony WF3510  132746   1.0\n",
       "197            Sony WF3510  105733   2.0\n",
       "14             Sony WF3510   58527   3.0"
      ]
     },
     "execution_count": 40,
     "metadata": {},
     "output_type": "execute_result"
    }
   ],
   "source": [
    "P_M_TopSales(2,3)"
   ]
  },
  {
   "cell_type": "markdown",
   "id": "978da066-e2c3-47b4-96b6-e7087fbe9a23",
   "metadata": {},
   "source": [
    "q8) Find Top 3 cities generating highest Sales."
   ]
  },
  {
   "cell_type": "markdown",
   "id": "aac773e4-4fbf-48ef-9cdf-730e1999478f",
   "metadata": {},
   "source": [
    "q9) Find MOM% change in Sales for each month."
   ]
  },
  {
   "cell_type": "code",
   "execution_count": 41,
   "id": "f12a9dfb-8e9c-4d61-8f59-15a0675b866a",
   "metadata": {},
   "outputs": [],
   "source": [
    "q9 = sales.copy()"
   ]
  },
  {
   "cell_type": "code",
   "execution_count": 42,
   "id": "91a97cd0-cd69-4f42-8bd9-2aabc04f9f03",
   "metadata": {},
   "outputs": [],
   "source": [
    "q91 = q9.groupby(['Month'])['Sales'].sum().reset_index()"
   ]
  },
  {
   "cell_type": "code",
   "execution_count": 43,
   "id": "b0ee20a3-5432-47d0-8d15-f0e6c345e612",
   "metadata": {},
   "outputs": [],
   "source": [
    "q91['Pre_M'] = q91['Sales'].shift(1)"
   ]
  },
  {
   "cell_type": "code",
   "execution_count": 44,
   "id": "3eb89322-6630-4662-8502-faef8dbbe569",
   "metadata": {},
   "outputs": [],
   "source": [
    "q91['Total_Sales'] = sales['Sales'].sum()"
   ]
  },
  {
   "cell_type": "code",
   "execution_count": 45,
   "id": "698b02c6-e630-4557-adc4-f5e2c2bd22f6",
   "metadata": {},
   "outputs": [],
   "source": [
    "q91['MOM%'] = round(((q91['Sales'] - q91['Pre_M'])/q91['Pre_M'])*100,2)"
   ]
  },
  {
   "cell_type": "code",
   "execution_count": 46,
   "id": "2ce54409-fe18-49cf-bb94-38ed0f01497c",
   "metadata": {},
   "outputs": [
    {
     "data": {
      "text/html": [
       "<div>\n",
       "<style scoped>\n",
       "    .dataframe tbody tr th:only-of-type {\n",
       "        vertical-align: middle;\n",
       "    }\n",
       "\n",
       "    .dataframe tbody tr th {\n",
       "        vertical-align: top;\n",
       "    }\n",
       "\n",
       "    .dataframe thead th {\n",
       "        text-align: right;\n",
       "    }\n",
       "</style>\n",
       "<table border=\"1\" class=\"dataframe\">\n",
       "  <thead>\n",
       "    <tr style=\"text-align: right;\">\n",
       "      <th></th>\n",
       "      <th>Month</th>\n",
       "      <th>Sales</th>\n",
       "      <th>Pre_M</th>\n",
       "      <th>Total_Sales</th>\n",
       "      <th>MOM%</th>\n",
       "    </tr>\n",
       "  </thead>\n",
       "  <tbody>\n",
       "    <tr>\n",
       "      <th>0</th>\n",
       "      <td>1</td>\n",
       "      <td>3334592</td>\n",
       "      <td>NaN</td>\n",
       "      <td>40749954</td>\n",
       "      <td>NaN</td>\n",
       "    </tr>\n",
       "    <tr>\n",
       "      <th>1</th>\n",
       "      <td>2</td>\n",
       "      <td>3117787</td>\n",
       "      <td>3334592.0</td>\n",
       "      <td>40749954</td>\n",
       "      <td>-6.50</td>\n",
       "    </tr>\n",
       "    <tr>\n",
       "      <th>2</th>\n",
       "      <td>3</td>\n",
       "      <td>3235834</td>\n",
       "      <td>3117787.0</td>\n",
       "      <td>40749954</td>\n",
       "      <td>3.79</td>\n",
       "    </tr>\n",
       "    <tr>\n",
       "      <th>3</th>\n",
       "      <td>4</td>\n",
       "      <td>3452048</td>\n",
       "      <td>3235834.0</td>\n",
       "      <td>40749954</td>\n",
       "      <td>6.68</td>\n",
       "    </tr>\n",
       "    <tr>\n",
       "      <th>4</th>\n",
       "      <td>5</td>\n",
       "      <td>3351323</td>\n",
       "      <td>3452048.0</td>\n",
       "      <td>40749954</td>\n",
       "      <td>-2.92</td>\n",
       "    </tr>\n",
       "    <tr>\n",
       "      <th>5</th>\n",
       "      <td>6</td>\n",
       "      <td>3637182</td>\n",
       "      <td>3351323.0</td>\n",
       "      <td>40749954</td>\n",
       "      <td>8.53</td>\n",
       "    </tr>\n",
       "    <tr>\n",
       "      <th>6</th>\n",
       "      <td>7</td>\n",
       "      <td>3555840</td>\n",
       "      <td>3637182.0</td>\n",
       "      <td>40749954</td>\n",
       "      <td>-2.24</td>\n",
       "    </tr>\n",
       "    <tr>\n",
       "      <th>7</th>\n",
       "      <td>8</td>\n",
       "      <td>3517231</td>\n",
       "      <td>3555840.0</td>\n",
       "      <td>40749954</td>\n",
       "      <td>-1.09</td>\n",
       "    </tr>\n",
       "    <tr>\n",
       "      <th>8</th>\n",
       "      <td>9</td>\n",
       "      <td>3623866</td>\n",
       "      <td>3517231.0</td>\n",
       "      <td>40749954</td>\n",
       "      <td>3.03</td>\n",
       "    </tr>\n",
       "    <tr>\n",
       "      <th>9</th>\n",
       "      <td>10</td>\n",
       "      <td>3384701</td>\n",
       "      <td>3623866.0</td>\n",
       "      <td>40749954</td>\n",
       "      <td>-6.60</td>\n",
       "    </tr>\n",
       "    <tr>\n",
       "      <th>10</th>\n",
       "      <td>11</td>\n",
       "      <td>3251112</td>\n",
       "      <td>3384701.0</td>\n",
       "      <td>40749954</td>\n",
       "      <td>-3.95</td>\n",
       "    </tr>\n",
       "    <tr>\n",
       "      <th>11</th>\n",
       "      <td>12</td>\n",
       "      <td>3288438</td>\n",
       "      <td>3251112.0</td>\n",
       "      <td>40749954</td>\n",
       "      <td>1.15</td>\n",
       "    </tr>\n",
       "  </tbody>\n",
       "</table>\n",
       "</div>"
      ],
      "text/plain": [
       "    Month    Sales      Pre_M  Total_Sales  MOM%\n",
       "0       1  3334592        NaN     40749954   NaN\n",
       "1       2  3117787  3334592.0     40749954 -6.50\n",
       "2       3  3235834  3117787.0     40749954  3.79\n",
       "3       4  3452048  3235834.0     40749954  6.68\n",
       "4       5  3351323  3452048.0     40749954 -2.92\n",
       "5       6  3637182  3351323.0     40749954  8.53\n",
       "6       7  3555840  3637182.0     40749954 -2.24\n",
       "7       8  3517231  3555840.0     40749954 -1.09\n",
       "8       9  3623866  3517231.0     40749954  3.03\n",
       "9      10  3384701  3623866.0     40749954 -6.60\n",
       "10     11  3251112  3384701.0     40749954 -3.95\n",
       "11     12  3288438  3251112.0     40749954  1.15"
      ]
     },
     "execution_count": 46,
     "metadata": {},
     "output_type": "execute_result"
    }
   ],
   "source": [
    "q91\n",
    "# MOM % = (current sales - previous sales / previous sales) *100"
   ]
  },
  {
   "cell_type": "markdown",
   "id": "2d4b5022-4db2-4254-adf7-5e9e74cb2905",
   "metadata": {},
   "source": [
    "q10) Find City and Prod wise top N Sales. Create a function for the same, use N as the argument"
   ]
  },
  {
   "cell_type": "code",
   "execution_count": 47,
   "id": "4b6f5ac6-ea6b-4e51-8e53-18271a4aee66",
   "metadata": {},
   "outputs": [],
   "source": [
    "def CP_topN(N):\n",
    "    q1a = q6[['City','Product','Sales']].sort_values(['City','Product','Sales'],ascending = [True,True,False])\n",
    "    q1c = q1a.groupby(['City','Product'])['Sales'].sum().reset_index()\n",
    "    q1c = q1c.sort_values(['City','Sales'],ascending = [True,False])\n",
    "    q1c['Rank'] = q1c.groupby(['City'])['Sales'].rank(ascending = False)\n",
    "    return q1c[q1c['Rank']<=N]"
   ]
  },
  {
   "cell_type": "code",
   "execution_count": 48,
   "id": "186ecfc3-89ea-407f-b950-26d7483743a6",
   "metadata": {
    "jp-MarkdownHeadingCollapsed": true
   },
   "outputs": [
    {
     "data": {
      "text/html": [
       "<div>\n",
       "<style scoped>\n",
       "    .dataframe tbody tr th:only-of-type {\n",
       "        vertical-align: middle;\n",
       "    }\n",
       "\n",
       "    .dataframe tbody tr th {\n",
       "        vertical-align: top;\n",
       "    }\n",
       "\n",
       "    .dataframe thead th {\n",
       "        text-align: right;\n",
       "    }\n",
       "</style>\n",
       "<table border=\"1\" class=\"dataframe\">\n",
       "  <thead>\n",
       "    <tr style=\"text-align: right;\">\n",
       "      <th></th>\n",
       "      <th>City</th>\n",
       "      <th>Product</th>\n",
       "      <th>Sales</th>\n",
       "      <th>Rank</th>\n",
       "    </tr>\n",
       "  </thead>\n",
       "  <tbody>\n",
       "    <tr>\n",
       "      <th>1</th>\n",
       "      <td>Delhi</td>\n",
       "      <td>Boat Airdopes 181 Pro</td>\n",
       "      <td>1069997</td>\n",
       "      <td>1.0</td>\n",
       "    </tr>\n",
       "    <tr>\n",
       "      <th>5</th>\n",
       "      <td>Delhi</td>\n",
       "      <td>RealMe Buds Air 6</td>\n",
       "      <td>1059490</td>\n",
       "      <td>2.0</td>\n",
       "    </tr>\n",
       "    <tr>\n",
       "      <th>6</th>\n",
       "      <td>Delhi</td>\n",
       "      <td>Sony WF3510</td>\n",
       "      <td>1003735</td>\n",
       "      <td>3.0</td>\n",
       "    </tr>\n",
       "    <tr>\n",
       "      <th>7</th>\n",
       "      <td>Gtr Noida</td>\n",
       "      <td>Apple AirPods Pro</td>\n",
       "      <td>1115812</td>\n",
       "      <td>1.0</td>\n",
       "    </tr>\n",
       "    <tr>\n",
       "      <th>12</th>\n",
       "      <td>Gtr Noida</td>\n",
       "      <td>RealMe Buds Air 6</td>\n",
       "      <td>1105515</td>\n",
       "      <td>2.0</td>\n",
       "    </tr>\n",
       "    <tr>\n",
       "      <th>10</th>\n",
       "      <td>Gtr Noida</td>\n",
       "      <td>Noise Aura Buds</td>\n",
       "      <td>1043417</td>\n",
       "      <td>3.0</td>\n",
       "    </tr>\n",
       "    <tr>\n",
       "      <th>14</th>\n",
       "      <td>Gurugram</td>\n",
       "      <td>Apple AirPods Pro</td>\n",
       "      <td>1158485</td>\n",
       "      <td>1.0</td>\n",
       "    </tr>\n",
       "    <tr>\n",
       "      <th>19</th>\n",
       "      <td>Gurugram</td>\n",
       "      <td>RealMe Buds Air 6</td>\n",
       "      <td>1059530</td>\n",
       "      <td>2.0</td>\n",
       "    </tr>\n",
       "    <tr>\n",
       "      <th>18</th>\n",
       "      <td>Gurugram</td>\n",
       "      <td>OnePlus Nord Buds 2</td>\n",
       "      <td>967903</td>\n",
       "      <td>3.0</td>\n",
       "    </tr>\n",
       "    <tr>\n",
       "      <th>21</th>\n",
       "      <td>Jaipur</td>\n",
       "      <td>Apple AirPods Pro</td>\n",
       "      <td>1081636</td>\n",
       "      <td>1.0</td>\n",
       "    </tr>\n",
       "    <tr>\n",
       "      <th>23</th>\n",
       "      <td>Jaipur</td>\n",
       "      <td>JBl Wave Beam</td>\n",
       "      <td>1004572</td>\n",
       "      <td>2.0</td>\n",
       "    </tr>\n",
       "    <tr>\n",
       "      <th>25</th>\n",
       "      <td>Jaipur</td>\n",
       "      <td>OnePlus Nord Buds 2</td>\n",
       "      <td>989353</td>\n",
       "      <td>3.0</td>\n",
       "    </tr>\n",
       "    <tr>\n",
       "      <th>32</th>\n",
       "      <td>Kolkata</td>\n",
       "      <td>OnePlus Nord Buds 2</td>\n",
       "      <td>1098388</td>\n",
       "      <td>1.0</td>\n",
       "    </tr>\n",
       "    <tr>\n",
       "      <th>33</th>\n",
       "      <td>Kolkata</td>\n",
       "      <td>RealMe Buds Air 6</td>\n",
       "      <td>1083141</td>\n",
       "      <td>2.0</td>\n",
       "    </tr>\n",
       "    <tr>\n",
       "      <th>29</th>\n",
       "      <td>Kolkata</td>\n",
       "      <td>Boat Airdopes 181 Pro</td>\n",
       "      <td>1016157</td>\n",
       "      <td>3.0</td>\n",
       "    </tr>\n",
       "    <tr>\n",
       "      <th>40</th>\n",
       "      <td>Noida</td>\n",
       "      <td>RealMe Buds Air 6</td>\n",
       "      <td>1084908</td>\n",
       "      <td>1.0</td>\n",
       "    </tr>\n",
       "    <tr>\n",
       "      <th>35</th>\n",
       "      <td>Noida</td>\n",
       "      <td>Apple AirPods Pro</td>\n",
       "      <td>1079820</td>\n",
       "      <td>2.0</td>\n",
       "    </tr>\n",
       "    <tr>\n",
       "      <th>36</th>\n",
       "      <td>Noida</td>\n",
       "      <td>Boat Airdopes 181 Pro</td>\n",
       "      <td>1061878</td>\n",
       "      <td>3.0</td>\n",
       "    </tr>\n",
       "  </tbody>\n",
       "</table>\n",
       "</div>"
      ],
      "text/plain": [
       "         City                Product    Sales  Rank\n",
       "1       Delhi  Boat Airdopes 181 Pro  1069997   1.0\n",
       "5       Delhi      RealMe Buds Air 6  1059490   2.0\n",
       "6       Delhi            Sony WF3510  1003735   3.0\n",
       "7   Gtr Noida      Apple AirPods Pro  1115812   1.0\n",
       "12  Gtr Noida      RealMe Buds Air 6  1105515   2.0\n",
       "10  Gtr Noida        Noise Aura Buds  1043417   3.0\n",
       "14   Gurugram      Apple AirPods Pro  1158485   1.0\n",
       "19   Gurugram      RealMe Buds Air 6  1059530   2.0\n",
       "18   Gurugram    OnePlus Nord Buds 2   967903   3.0\n",
       "21     Jaipur      Apple AirPods Pro  1081636   1.0\n",
       "23     Jaipur          JBl Wave Beam  1004572   2.0\n",
       "25     Jaipur    OnePlus Nord Buds 2   989353   3.0\n",
       "32    Kolkata    OnePlus Nord Buds 2  1098388   1.0\n",
       "33    Kolkata      RealMe Buds Air 6  1083141   2.0\n",
       "29    Kolkata  Boat Airdopes 181 Pro  1016157   3.0\n",
       "40      Noida      RealMe Buds Air 6  1084908   1.0\n",
       "35      Noida      Apple AirPods Pro  1079820   2.0\n",
       "36      Noida  Boat Airdopes 181 Pro  1061878   3.0"
      ]
     },
     "execution_count": 48,
     "metadata": {},
     "output_type": "execute_result"
    }
   ],
   "source": [
    "CP_topN(3)"
   ]
  },
  {
   "cell_type": "code",
   "execution_count": 49,
   "id": "41ffbf68-6f6a-48f1-8a03-57c97c8257ce",
   "metadata": {},
   "outputs": [
    {
     "data": {
      "text/html": [
       "<div>\n",
       "<style scoped>\n",
       "    .dataframe tbody tr th:only-of-type {\n",
       "        vertical-align: middle;\n",
       "    }\n",
       "\n",
       "    .dataframe tbody tr th {\n",
       "        vertical-align: top;\n",
       "    }\n",
       "\n",
       "    .dataframe thead th {\n",
       "        text-align: right;\n",
       "    }\n",
       "</style>\n",
       "<table border=\"1\" class=\"dataframe\">\n",
       "  <thead>\n",
       "    <tr style=\"text-align: right;\">\n",
       "      <th></th>\n",
       "      <th>Date</th>\n",
       "      <th>City</th>\n",
       "      <th>PID</th>\n",
       "      <th>Sales</th>\n",
       "      <th>Month</th>\n",
       "      <th>Year</th>\n",
       "      <th>Bud_ID</th>\n",
       "      <th>Product</th>\n",
       "    </tr>\n",
       "  </thead>\n",
       "  <tbody>\n",
       "    <tr>\n",
       "      <th>0</th>\n",
       "      <td>2024-04-30</td>\n",
       "      <td>Noida</td>\n",
       "      <td>PBUD039</td>\n",
       "      <td>53661</td>\n",
       "      <td>4</td>\n",
       "      <td>2024</td>\n",
       "      <td>PBUD039</td>\n",
       "      <td>Apple AirPods Pro</td>\n",
       "    </tr>\n",
       "    <tr>\n",
       "      <th>1</th>\n",
       "      <td>2024-02-29</td>\n",
       "      <td>Kolkata</td>\n",
       "      <td>PBUD038</td>\n",
       "      <td>60848</td>\n",
       "      <td>2</td>\n",
       "      <td>2024</td>\n",
       "      <td>PBUD038</td>\n",
       "      <td>Noise Aura Buds</td>\n",
       "    </tr>\n",
       "    <tr>\n",
       "      <th>2</th>\n",
       "      <td>2024-02-29</td>\n",
       "      <td>Gurugram</td>\n",
       "      <td>PBUD039</td>\n",
       "      <td>53505</td>\n",
       "      <td>2</td>\n",
       "      <td>2024</td>\n",
       "      <td>PBUD039</td>\n",
       "      <td>Apple AirPods Pro</td>\n",
       "    </tr>\n",
       "    <tr>\n",
       "      <th>3</th>\n",
       "      <td>2024-07-31</td>\n",
       "      <td>Gurugram</td>\n",
       "      <td>PBUD037</td>\n",
       "      <td>112005</td>\n",
       "      <td>7</td>\n",
       "      <td>2024</td>\n",
       "      <td>PBUD037</td>\n",
       "      <td>RealMe Buds Air 6</td>\n",
       "    </tr>\n",
       "    <tr>\n",
       "      <th>4</th>\n",
       "      <td>2024-02-29</td>\n",
       "      <td>Gtr Noida</td>\n",
       "      <td>PBUD034</td>\n",
       "      <td>45895</td>\n",
       "      <td>2</td>\n",
       "      <td>2024</td>\n",
       "      <td>PBUD034</td>\n",
       "      <td>OnePlus Nord Buds 2</td>\n",
       "    </tr>\n",
       "    <tr>\n",
       "      <th>...</th>\n",
       "      <td>...</td>\n",
       "      <td>...</td>\n",
       "      <td>...</td>\n",
       "      <td>...</td>\n",
       "      <td>...</td>\n",
       "      <td>...</td>\n",
       "      <td>...</td>\n",
       "      <td>...</td>\n",
       "    </tr>\n",
       "    <tr>\n",
       "      <th>499</th>\n",
       "      <td>2024-04-30</td>\n",
       "      <td>Gurugram</td>\n",
       "      <td>PBUD035</td>\n",
       "      <td>106743</td>\n",
       "      <td>4</td>\n",
       "      <td>2024</td>\n",
       "      <td>PBUD035</td>\n",
       "      <td>Boat Airdopes 181 Pro</td>\n",
       "    </tr>\n",
       "    <tr>\n",
       "      <th>500</th>\n",
       "      <td>2024-04-30</td>\n",
       "      <td>Delhi</td>\n",
       "      <td>PBUD034</td>\n",
       "      <td>92564</td>\n",
       "      <td>4</td>\n",
       "      <td>2024</td>\n",
       "      <td>PBUD034</td>\n",
       "      <td>OnePlus Nord Buds 2</td>\n",
       "    </tr>\n",
       "    <tr>\n",
       "      <th>501</th>\n",
       "      <td>2024-01-31</td>\n",
       "      <td>Noida</td>\n",
       "      <td>PBUD034</td>\n",
       "      <td>72580</td>\n",
       "      <td>1</td>\n",
       "      <td>2024</td>\n",
       "      <td>PBUD034</td>\n",
       "      <td>OnePlus Nord Buds 2</td>\n",
       "    </tr>\n",
       "    <tr>\n",
       "      <th>502</th>\n",
       "      <td>2024-08-31</td>\n",
       "      <td>Gurugram</td>\n",
       "      <td>PBUD040</td>\n",
       "      <td>67788</td>\n",
       "      <td>8</td>\n",
       "      <td>2024</td>\n",
       "      <td>PBUD040</td>\n",
       "      <td>JBl Wave Beam</td>\n",
       "    </tr>\n",
       "    <tr>\n",
       "      <th>503</th>\n",
       "      <td>2024-03-31</td>\n",
       "      <td>Noida</td>\n",
       "      <td>PBUD040</td>\n",
       "      <td>82390</td>\n",
       "      <td>3</td>\n",
       "      <td>2024</td>\n",
       "      <td>PBUD040</td>\n",
       "      <td>JBl Wave Beam</td>\n",
       "    </tr>\n",
       "  </tbody>\n",
       "</table>\n",
       "<p>504 rows × 8 columns</p>\n",
       "</div>"
      ],
      "text/plain": [
       "          Date       City      PID   Sales  Month  Year   Bud_ID  \\\n",
       "0   2024-04-30      Noida  PBUD039   53661      4  2024  PBUD039   \n",
       "1   2024-02-29    Kolkata  PBUD038   60848      2  2024  PBUD038   \n",
       "2   2024-02-29   Gurugram  PBUD039   53505      2  2024  PBUD039   \n",
       "3   2024-07-31   Gurugram  PBUD037  112005      7  2024  PBUD037   \n",
       "4   2024-02-29  Gtr Noida  PBUD034   45895      2  2024  PBUD034   \n",
       "..         ...        ...      ...     ...    ...   ...      ...   \n",
       "499 2024-04-30   Gurugram  PBUD035  106743      4  2024  PBUD035   \n",
       "500 2024-04-30      Delhi  PBUD034   92564      4  2024  PBUD034   \n",
       "501 2024-01-31      Noida  PBUD034   72580      1  2024  PBUD034   \n",
       "502 2024-08-31   Gurugram  PBUD040   67788      8  2024  PBUD040   \n",
       "503 2024-03-31      Noida  PBUD040   82390      3  2024  PBUD040   \n",
       "\n",
       "                   Product  \n",
       "0        Apple AirPods Pro  \n",
       "1          Noise Aura Buds  \n",
       "2        Apple AirPods Pro  \n",
       "3        RealMe Buds Air 6  \n",
       "4      OnePlus Nord Buds 2  \n",
       "..                     ...  \n",
       "499  Boat Airdopes 181 Pro  \n",
       "500    OnePlus Nord Buds 2  \n",
       "501    OnePlus Nord Buds 2  \n",
       "502          JBl Wave Beam  \n",
       "503          JBl Wave Beam  \n",
       "\n",
       "[504 rows x 8 columns]"
      ]
     },
     "execution_count": 49,
     "metadata": {},
     "output_type": "execute_result"
    }
   ],
   "source": [
    "q6"
   ]
  },
  {
   "cell_type": "markdown",
   "id": "9fa3ac4f-c1f3-47a7-99a5-a6f7c10a9f92",
   "metadata": {},
   "source": [
    "q11) "
   ]
  },
  {
   "cell_type": "markdown",
   "id": "3b83bf77-85a4-46e4-aba6-d38d1b63a56e",
   "metadata": {},
   "source": [
    "Q15) Find the best-performing product each month and compute how many months each product topped."
   ]
  },
  {
   "cell_type": "code",
   "execution_count": null,
   "id": "12c3a08e-19ef-4674-b506-a5ac064e3100",
   "metadata": {},
   "outputs": [],
   "source": [
    "q15 = q6.groupby(['Month','Product'])['Sales'].sum().reset_index().sort_values(['Month','Sales'],ascending = [True, False]).\\\n",
    "groupby('Month').head(1)"
   ]
  },
  {
   "cell_type": "code",
   "execution_count": null,
   "id": "d4504082-abfe-4a0f-80d2-133246f8c32b",
   "metadata": {},
   "outputs": [],
   "source": [
    "q15['Product'].value_counts().reset_index()"
   ]
  },
  {
   "cell_type": "code",
   "execution_count": null,
   "id": "1b5e1d34-d3e8-4cfa-85a8-ed87545c2f78",
   "metadata": {},
   "outputs": [],
   "source": [
    "q6"
   ]
  },
  {
   "cell_type": "code",
   "execution_count": null,
   "id": "1615e6a2-e7d4-41be-afe8-18a61e82cc2d",
   "metadata": {},
   "outputs": [],
   "source": []
  },
  {
   "cell_type": "code",
   "execution_count": null,
   "id": "ca57e6f0-daf7-4941-9c21-b387db03b39b",
   "metadata": {},
   "outputs": [],
   "source": []
  },
  {
   "cell_type": "code",
   "execution_count": null,
   "id": "daf6510b-a1e5-4e9e-9c91-e2189eb0a433",
   "metadata": {},
   "outputs": [],
   "source": []
  },
  {
   "cell_type": "code",
   "execution_count": null,
   "id": "83ec858f-df8a-4373-bbcf-416d02271d6f",
   "metadata": {},
   "outputs": [],
   "source": []
  },
  {
   "cell_type": "code",
   "execution_count": null,
   "id": "4c896ae6-71a1-4e77-ab8a-d9dd882d24a9",
   "metadata": {},
   "outputs": [],
   "source": []
  },
  {
   "cell_type": "code",
   "execution_count": null,
   "id": "b9473729-ca71-434a-86a7-909ffb64a45a",
   "metadata": {},
   "outputs": [],
   "source": []
  },
  {
   "cell_type": "code",
   "execution_count": null,
   "id": "031f5a79-e383-4725-89c5-6b68518ad02a",
   "metadata": {},
   "outputs": [],
   "source": []
  },
  {
   "cell_type": "code",
   "execution_count": null,
   "id": "34984b47-89ff-43dc-852e-555762e9c897",
   "metadata": {},
   "outputs": [],
   "source": []
  },
  {
   "cell_type": "code",
   "execution_count": null,
   "id": "c8f0b02d-b0ae-4715-8e9a-2a4232a73275",
   "metadata": {},
   "outputs": [],
   "source": []
  },
  {
   "cell_type": "code",
   "execution_count": null,
   "id": "735b9b69-76fd-41be-9157-a3f41819779e",
   "metadata": {},
   "outputs": [],
   "source": []
  },
  {
   "cell_type": "code",
   "execution_count": null,
   "id": "d12b9f45-2694-4114-9b65-323306e93099",
   "metadata": {},
   "outputs": [],
   "source": []
  },
  {
   "cell_type": "code",
   "execution_count": null,
   "id": "0dce8a5a-bd88-4e60-8741-7e31de5be678",
   "metadata": {},
   "outputs": [],
   "source": []
  }
 ],
 "metadata": {
  "kernelspec": {
   "display_name": "Python 3 (ipykernel)",
   "language": "python",
   "name": "python3"
  },
  "language_info": {
   "codemirror_mode": {
    "name": "ipython",
    "version": 3
   },
   "file_extension": ".py",
   "mimetype": "text/x-python",
   "name": "python",
   "nbconvert_exporter": "python",
   "pygments_lexer": "ipython3",
   "version": "3.12.7"
  }
 },
 "nbformat": 4,
 "nbformat_minor": 5
}
